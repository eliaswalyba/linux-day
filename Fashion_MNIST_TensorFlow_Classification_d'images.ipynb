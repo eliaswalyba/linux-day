{
 "cells": [
  {
   "cell_type": "markdown",
   "metadata": {
    "colab_type": "text",
    "id": "jYysdyb-CaWM"
   },
   "source": [
    "### Free Software Day | 21 / 09 / 2019 | ENO Mermoz\n",
    "---\n",
    "# Workshop Deep Learning\n",
    "## Classification d'images avec TensorFlow 2 et Fashion MNIST\n",
    "---\n",
    "![alt text](https://imgix.bustle.com/uploads/image/2019/6/11/09e3be8c-9a1b-45a0-a9f2-498530dbe75c-tomyicon-homepage.png?w=1080&h=605&fit=crop&crop=faces&auto=format&q=70)\n",
    "---\n",
    "Hey Hey ! 😊 Bienvenue dans ce super mega excitant workshop ! Aujourd'hui nous allons apprendre à utiliser TensorFlow 2 avec le langage de programmation Python et le jeu de données Fashion MNIST pour classifier des images de mode en utilisant deux architectures de réseaux de neuronnes different:\n",
    "\n",
    "1.   Un réseau de neuronnes simple (feed-forward) ou réseaux de perceptrons à multi-couches (MLP)\n",
    "2.   Un réseau de neuronnes convolutionnel (CNN)\n",
    "\n",
    "Plus spécifiquement nous allons utiliser **tf.keras** qui est une API de haut niveau sur TensorFlow pour faciliter la création et l'entrainement de notre modèle\n",
    "\n",
    "\n",
    "## Are You Ready ? Let's Go ! 🤤 🤤\n",
    "![alt text](https://media.giphy.com/media/lluj1cauAlO2vQEm8A/giphy.gif)\n",
    "\n"
   ]
  },
  {
   "cell_type": "markdown",
   "metadata": {
    "colab_type": "text",
    "id": "MsLEEaswdrzG"
   },
   "source": [
    "## Definitions\n",
    "\n",
    "*   ** TensorFlow ** : Créée par l'équipe Google Brain, TensorFlow est une bibliothèque open source pour le calcul numérique et l'apprentissage automatique à grande échelle. TensorFlow regroupe une multitude de modèles et d’algorithmes d’apprentissage automatique et d’apprentissage approfondi (réseautage neuronal) et les rend utiles au moyen d’une métaphore commune. Il utilise Python pour fournir une API frontale pratique permettant de créer des applications avec la structure, tout en les exécutant en C ++ hautes performances.\n",
    "*   ** Keras ** : Bien que les réseaux de neurones profonds fassent fureur, la complexité des principaux cadres constitue un obstacle à leur utilisation par les développeurs novices en apprentissage automatique. Plusieurs propositions d'améliorations et de simplification des API de haut niveau pour la construction de modèles de réseaux neuronaux ont été proposées. Toutes ont tendance à ressembler de loin, mais montrent des différences à l'examen.\n",
    "Keras est l’un des principaux API de réseaux de neurones de haut niveau. Il est écrit en Python et prend en charge plusieurs moteurs de calcul de réseau neuronal dorsaux.\n",
    "*   ** MNIST ** : La base de données MNIST (base de données modifiée de l'Institut national des normes et de la technologie) est une vaste base de données de chiffres manuscrits qui est couramment utilisée pour la formation de divers systèmes de traitement d'images.\n",
    "MNIST est maintenant devenu un ensemble de données de formation standard pour les chiffres en anglais. Il existe des bases de données similaires établies par d’autres pour des jeux de données de formation pour les chiffres dans d’autres langues et pour les caractères en anglais et dans d’autres langues.\n",
    "*   ** Fashion MNIST ** : Fashion-MNIST est un ensemble de données d’images d’articles de Zalando comprenant 60 000 exemples de formation et 10 000 exemples de tests. Chaque exemple est une image 28 × 28 en niveaux de gris, associée à une étiquette de 10 classes. Fashion-MNIST est destiné à remplacer directement le jeu de données MNIST d'origine pour l'analyse comparative des algorithmes d'apprentissage automatique.\n",
    "\n"
   ]
  },
  {
   "cell_type": "markdown",
   "metadata": {
    "colab_type": "text",
    "id": "H0tMfX2vR0uD"
   },
   "source": [
    "## Installation des librairies\n",
    "Pour installer des librairies dans **Google Colab** , on excute la commande: **pip install nom_de_la_librarie==version** . Mais vu que **pip** est une commande **Shell** alors il faut tout le temps mettre un **!** devant la commande pour dire à **Google Colab** que nous voulons executer une commande **Shell** .\n",
    "\n",
    "Nous allons à présent installer **[TensorFlow](https://www.tensorflow.org)** et **[TensorFlow Datasets](https://www.tensorflow.org/datasets/)** . **TensorFlow Datasets** est un sous-module de **TensorFlow** qui permet de télécharger et de manipuler des jeux de données en les préparant pour être facilement utilisable avec **TensorFlow** dans le format **tf.dataset**"
   ]
  },
  {
   "cell_type": "code",
   "execution_count": null,
   "metadata": {
    "colab": {
     "base_uri": "https://localhost:8080/",
     "height": 957
    },
    "colab_type": "code",
    "id": "P7mUJVqcINSM",
    "outputId": "8c7c08bd-5e45-48b4-cd2b-6bab95a3f141"
   },
   "outputs": [
    {
     "name": "stdout",
     "output_type": "stream",
     "text": [
      "Collecting tensorflow==2.0.0-rc1\n",
      "\u001b[?25l  Downloading https://files.pythonhosted.org/packages/ec/ba/8a4db7d73b1fd9826cd22ca7ea458b3612d64a11b96c9c42b2cc6fb8224f/tensorflow-2.0.0rc1-cp37-cp37m-manylinux2010_x86_64.whl (86.3MB)\n",
      "\u001b[K     |███▌                            | 9.3MB 223kB/s eta 0:05:44"
     ]
    }
   ],
   "source": [
    "!pip install tensorflow==2.0.0-rc1 \n",
    "!pip install -U tensorflow_datasets"
   ]
  },
  {
   "cell_type": "markdown",
   "metadata": {
    "colab_type": "text",
    "id": "O8H-Yoe-hUC5"
   },
   "source": [
    "## Importation de nos librairies dans notre environnement de travail"
   ]
  },
  {
   "cell_type": "code",
   "execution_count": 5,
   "metadata": {
    "colab": {
     "base_uri": "https://localhost:8080/",
     "height": 52
    },
    "colab_type": "code",
    "id": "dzLKpmZICaWN",
    "outputId": "364133a8-1e7c-4811-db08-706b3d9fff2b"
   },
   "outputs": [
    {
     "name": "stdout",
     "output_type": "stream",
     "text": [
      "2.0.0-rc1\n",
      "1.2.0\n"
     ]
    }
   ],
   "source": [
    "from __future__ import absolute_import, division, print_function\n",
    "\n",
    "\n",
    "# Importation de TensorFlow et de TensorFlow Datasets\n",
    "import tensorflow as tf\n",
    "import tensorflow_datasets as tfds\n",
    "\n",
    "# les autres librairies utilitaires dont on ne peut pas se passer pour faire fonctionner notre code\n",
    "import math\n",
    "import matplotlib.pyplot as plt\n",
    "\n",
    "# On teste pour voir si TensorFlow s'est bien installée\n",
    "print(tf.__version__)  \n",
    "print(tfds.__version__) "
   ]
  },
  {
   "cell_type": "markdown",
   "metadata": {
    "colab_type": "text",
    "id": "yR0EdgrLCaWR"
   },
   "source": [
    "## Téléchargement du jeu de données Fashion MNIST"
   ]
  },
  {
   "cell_type": "markdown",
   "metadata": {
    "colab_type": "text",
    "id": "DLdCchMdCaWQ"
   },
   "source": [
    "**On va utiliser Fasion MNIST qui contient 70 000 images qui peuvent etre classees en 10 differentes categories (t-shirt, sandales, ....)**\n",
    "<br/><br/>\n",
    "\n",
    "![alt text](https://tensorflow.org/images/fashion-mnist-sprite.png)\n",
    "<br />\n",
    "<a href=\"https://github.com/zalandoresearch/fashion-mnist\">Example du jeu de donnees Fashion-MNIST</a> (par Zalando, MIT License).<br/>&nbsp;\n",
    "\n",
    "**Fashion MNIST est un \"remplacement\" de MNIST [MNIST](http://yann.lecun.com/exdb/mnist/) qui contient des images avec les nombres 0 a 9.**\n",
    "\n",
    "Fshion MNIST est un peu plus difficile que le MNIST original en terme d'apprentissage car ayant plus de varitete\n",
    "\n",
    "elle contient 70 000 images, on va utiliser 60 000 image pour l'entrainement du model et les 10 000 restants pour tester les performances du model"
   ]
  },
  {
   "cell_type": "code",
   "execution_count": 9,
   "metadata": {
    "colab": {
     "base_uri": "https://localhost:8080/",
     "height": 54
    },
    "colab_type": "code",
    "id": "7MqDQO0KCaWS",
    "outputId": "0e984f0d-54ee-497e-d126-55869e913af1"
   },
   "outputs": [
    {
     "name": "stderr",
     "output_type": "stream",
     "text": [
      "WARNING:absl:Warning: Setting shuffle_files=True because split=TRAIN and shuffle_files=None. This behavior will be deprecated on 2019-08-06, at which point shuffle_files=False will be the default for all splits.\n"
     ]
    }
   ],
   "source": [
    "dataset, metadata = tfds.load('fashion_mnist', as_supervised=True, with_info=True)\n",
    "train_dataset, test_dataset = dataset['train'], dataset['test']"
   ]
  },
  {
   "cell_type": "markdown",
   "metadata": {
    "colab_type": "text",
    "id": "t9FDsUlxCaWW"
   },
   "source": [
    "le chargement des donnees nous donne un jeu d'apprentissage et un jeu de test. \n",
    "\n",
    "* l'utilisation de  with_info permet d'avoir une variable en retour qui va contenir les informations sur le jeu de donnees telles que le nombre d'observation(Dans les NORMES)\n",
    "* l'utilisation de as_supervised permet de retourner le jeu donnees sous forme de couple par observation (image,label)\n",
    "\n",
    "les images sont des matrices 28 $\\times$ 28, avec des valeurs dans l'intervalle `[0, 255]`. Les *labels* sont respresentes par un tableau d'entiers, dans l'intervalle `[0, 9]`. ces entiers correspondent aux 10 differentes categories d'images sur le jeu de donnees (Vive les nombres):\n",
    "\n",
    "<table>\n",
    "  <tr>\n",
    "    <th>Label</th>\n",
    "    <th>Categorie</th> \n",
    "  </tr>\n",
    "  <tr>\n",
    "    <td>0</td>\n",
    "    <td>T-shirt/top</td> \n",
    "  </tr>\n",
    "  <tr>\n",
    "    <td>1</td>\n",
    "    <td>Trouser</td> \n",
    "  </tr>\n",
    "    <tr>\n",
    "    <td>2</td>\n",
    "    <td>Pullover</td> \n",
    "  </tr>\n",
    "    <tr>\n",
    "    <td>3</td>\n",
    "    <td>Dress</td> \n",
    "  </tr>\n",
    "    <tr>\n",
    "    <td>4</td>\n",
    "    <td>Coat</td> \n",
    "  </tr>\n",
    "    <tr>\n",
    "    <td>5</td>\n",
    "    <td>Sandal</td> \n",
    "  </tr>\n",
    "    <tr>\n",
    "    <td>6</td>\n",
    "    <td>Shirt</td> \n",
    "  </tr>\n",
    "    <tr>\n",
    "    <td>7</td>\n",
    "    <td>Sneaker</td> \n",
    "  </tr>\n",
    "    <tr>\n",
    "    <td>8</td>\n",
    "    <td>Bag</td> \n",
    "  </tr>\n",
    "    <tr>\n",
    "    <td>9</td>\n",
    "    <td>Ankle boot</td> \n",
    "  </tr>\n",
    "</table>\n",
    "\n",
    "On va creer un tableau pour mapper les entiers sur notre jeu de donnees correspondant aux differentes categories d'images"
   ]
  },
  {
   "cell_type": "code",
   "execution_count": null,
   "metadata": {
    "colab": {},
    "colab_type": "code",
    "id": "IjnLH5S2CaWx"
   },
   "outputs": [],
   "source": [
    "class_names = ['T-shirt', 'Pantalon', 'Pull', 'Robe', 'Manteau', 'Sandale', 'Chemise', 'Basket', 'Sac', 'Bottine']"
   ]
  },
  {
   "cell_type": "markdown",
   "metadata": {
    "colab_type": "text",
    "id": "Brm0b_KACaWX"
   },
   "source": [
    "### Explorons les images\n",
    "Et oui ! il faut tout le temps explorer ses données avant de les utiliser 😉"
   ]
  },
  {
   "cell_type": "code",
   "execution_count": 10,
   "metadata": {
    "colab": {
     "base_uri": "https://localhost:8080/",
     "height": 52
    },
    "colab_type": "code",
    "id": "MaOTZxFzi48X",
    "outputId": "e637888d-2109-495e-c386-63ee6d367944"
   },
   "outputs": [
    {
     "name": "stdout",
     "output_type": "stream",
     "text": [
      "Nombre d'observations pour l'apprentissage: 60000\n",
      "Nombre d'observations pour l'evaluation du model: 10000\n"
     ]
    }
   ],
   "source": [
    "num_train_examples = metadata.splits['train'].num_examples\n",
    "num_test_examples = metadata.splits['test'].num_examples\n",
    "\n",
    "print(f\"Nombre d'observations pour l'apprentissage: {num_train_examples}\")\n",
    "print(f\"Nombre d'observations pour l'evaluation du model: {num_test_examples}\")"
   ]
  },
  {
   "cell_type": "code",
   "execution_count": null,
   "metadata": {
    "colab": {},
    "colab_type": "code",
    "id": "yaXSaTLgmwxy"
   },
   "outputs": [],
   "source": [
    "my_image = next(iter(train_dataset))[0].numpy()"
   ]
  },
  {
   "cell_type": "markdown",
   "metadata": {
    "colab_type": "text",
    "id": "ES6uQoLKCaWr"
   },
   "source": [
    "## \"Normalisons\" les images\n",
    "\n",
    "Comme mentionne precedement les images sont dans l'intervalle  `[0,255]`, on va les transformer pour les forcer dans l'intervalle `[0,1]`."
   ]
  },
  {
   "cell_type": "code",
   "execution_count": null,
   "metadata": {
    "colab": {},
    "colab_type": "code",
    "id": "e1p6K1eNTpZ_"
   },
   "outputs": [],
   "source": [
    "def plot_image(image, label, c=plt.cm.binary, multiple=False, dims=None):\n",
    "    plt.grid(False)\n",
    "    plt.imshow(image, cmap=c)\n",
    "    plt.xlabel(label)\n",
    "    if multiple:\n",
    "        plt.subplot(*dims)\n",
    "        plt.xticks([])\n",
    "        plt.yticks([])\n",
    "    else:\n",
    "        plt.figure()\n",
    "        plt.colorbar()\n",
    "        plt.show()"
   ]
  },
  {
   "cell_type": "code",
   "execution_count": null,
   "metadata": {
    "colab": {},
    "colab_type": "code",
    "id": "nAsH3Zm-76pB"
   },
   "outputs": [],
   "source": [
    "def normalize(images, labels):\n",
    "  return tf.cast(images, tf.float32) / 255, labels"
   ]
  },
  {
   "cell_type": "code",
   "execution_count": null,
   "metadata": {
    "colab": {},
    "colab_type": "code",
    "id": "TBYX1U_ETRtc"
   },
   "outputs": [],
   "source": [
    "train_dataset =  train_dataset.map(normalize)\n",
    "test_dataset  =  test_dataset.map(normalize)"
   ]
  },
  {
   "cell_type": "markdown",
   "metadata": {
    "colab_type": "text",
    "id": "lIQbEiJGXM-q"
   },
   "source": [
    "### Inspection des données normalisées\n",
    "\n",
    "Affichons une image de notre jeu de données pour voir à quoi elle ressemble"
   ]
  },
  {
   "cell_type": "code",
   "execution_count": 22,
   "metadata": {
    "colab": {
     "base_uri": "https://localhost:8080/",
     "height": 269
    },
    "colab_type": "code",
    "id": "oSzE9l7PjHx0",
    "outputId": "733718a4-f3c9-4e47-fbf6-543c0051bbb6"
   },
   "outputs": [
    {
     "data": {
      "image/png": "[encoded data removed]",
      "text/plain": [
       "<Figure size 432x288 with 2 Axes>"
      ]
     },
     "metadata": {
      "tags": []
     },
     "output_type": "display_data"
    }
   ],
   "source": [
    "# On va prendre une image et enlever la derniere dimension qui represente la couleur (de toute façon on a qu'un seul élément)\n",
    "image = next(iter(test_dataset.take(1)))[0].numpy().reshape((28,28))\n",
    "\n",
    "# Affichons l'image - La mode dans toute sa splendeur :)\n",
    "plot_image(image)"
   ]
  },
  {
   "cell_type": "markdown",
   "metadata": {
    "colab_type": "text",
    "id": "Ee638AlnCaWz"
   },
   "source": [
    "On va maintenant afficher 25 images pour mieux apprecier le monde de la mode (qui peut le moins peut le plus :) )"
   ]
  },
  {
   "cell_type": "code",
   "execution_count": 24,
   "metadata": {
    "colab": {
     "base_uri": "https://localhost:8080/",
     "height": 592
    },
    "colab_type": "code",
    "id": "oZTImqg_CaW1",
    "outputId": "d9f740d6-8ad1-43b4-f7b2-a05bfee03a3f"
   },
   "outputs": [
    {
     "data": {
      "image/png": "[encoded data removed]",
      "text/plain": [
       "<Figure size 720x720 with 25 Axes>"
      ]
     },
     "metadata": {
      "tags": []
     },
     "output_type": "display_data"
    }
   ],
   "source": [
    "plt.figure(figsize=(10,10))\n",
    "i = 0\n",
    "for (image, label) in test_dataset.take(25):\n",
    "    image = image.numpy().reshape((28,28))\n",
    "    label = class_names[label]\n",
    "    plot_image(image, label, multiple=True, dims=(5,5,i+1))\n",
    "    i += 1\n",
    "plt.show()"
   ]
  },
  {
   "cell_type": "markdown",
   "metadata": {
    "colab_type": "text",
    "id": "7awIfRFdW4g6"
   },
   "source": [
    "## Qui connait la regression lineaire ?\n"
   ]
  },
  {
   "cell_type": "markdown",
   "metadata": {
    "colab_type": "text",
    "id": "DkZ8VYXTXBor"
   },
   "source": [
    "## Et la regression logistique ?"
   ]
  },
  {
   "cell_type": "markdown",
   "metadata": {
    "colab_type": "text",
    "id": "kFUKLbY6XTAa"
   },
   "source": [
    "## Et pour finir les arbre de decision ou meilleur que ca Random Forrest (Foret aleatoire BURK)"
   ]
  },
  {
   "cell_type": "markdown",
   "metadata": {
    "colab_type": "text",
    "id": "59veuiEZCaW4"
   },
   "source": [
    "## Construction du model\n",
    "\n",
    "On va commencer par creer les couches qui vont etre utiliser pour apprendre les parametres du mode, puis initaliser le model en utilisant la methode build avec la fonction d'optimization et la fonction de perte qu'on veut utiliser"
   ]
  },
  {
   "cell_type": "markdown",
   "metadata": {
    "colab_type": "text",
    "id": "Gxg1XGm0eOBy"
   },
   "source": [
    "### mise en place des couches"
   ]
  },
  {
   "cell_type": "code",
   "execution_count": null,
   "metadata": {
    "colab": {},
    "colab_type": "code",
    "id": "9ODch-OFCaW4"
   },
   "outputs": [],
   "source": [
    "input_layer = tf.keras.layers.Flatten(input_shape=(28, 28, 1))\n",
    "hidden_layer = tf.keras.layers.Dense(128, activation=tf.nn.sigmoid)\n",
    "output_layer = tf.keras.layers.Dense(10,  activation=tf.nn.softmax)\n",
    "layers = [input_layer, hidden_layer, output_layer]\n",
    "model = tf.keras.Sequential(layers)"
   ]
  },
  {
   "cell_type": "markdown",
   "metadata": {
    "colab_type": "text",
    "id": "gut8A_7rCaW6"
   },
   "source": [
    "On a trois couches:\n",
    "\n",
    "* **input ou flatten layer** on l'utiliser ici pour transformer les images de 28 x 28 en un seul vecteur de 784 elements\n",
    "\n",
    "* **\"une couche cachee\"** cette couche est la base de notre modele, elle va apprendre des parametres qui quand multiplier avec le vecteur en entree vont donner une \"meilleure\" representation de l'image du point de vue du model(une representation plus cocise et simple a interpreter pour une machine)\n",
    "\n",
    "* **une couche de sortie** cette couche va donner en sortie 10 valeurs(ca vous rappele rien ) c'est le nombre de categories sur notre jeu de donnees, donc ces 10 sorties sont just des probabilites, chacune representant la probabilite que l'image appartient a une categorie. (softmax je t'aime, sigmoid => Et moi ? )\n",
    "\n",
    "\n",
    "### Compilation du modele\n",
    "\n",
    "Le modele a besoin d'autres parametres pour savoir QUOI et COMMENT faire lors de l'apprentissage\n",
    "\n",
    "* *La focntion de perte* — Une fonction pour mesurer la performance du model. \n",
    "* *L'optimisateur* — Une fonction qui va etre utilise pour optimiser le model cad dimunier au maximum la valeur de sortie de la fonction de perte \n",
    "* *Les metriques* — Les metriques sont utilisees pour estimer les performance du modele, ici on va utiliser l'accuracy(exactitude)"
   ]
  },
  {
   "cell_type": "code",
   "execution_count": null,
   "metadata": {
    "colab": {},
    "colab_type": "code",
    "id": "Lhan11blCaW7"
   },
   "outputs": [],
   "source": [
    "model.compile(\n",
    "    optimizer='adam', \n",
    "    loss='sparse_categorical_crossentropy',\n",
    "    metrics=['accuracy']\n",
    ")"
   ]
  },
  {
   "cell_type": "markdown",
   "metadata": {
    "colab_type": "text",
    "id": "qKF6uW-BCaW-"
   },
   "source": [
    "## Entrainons le model\n",
    "- on donne le nombre d'images qui compose un batch(apres chaque batch on reevalue les parametres en utilisant la fonction d'optimisation)\n",
    "- On donne aussi le nombre d'iterations (epocs)\n",
    "- et pour finir le nombre de steps par epochs (nombre de batch a consomer pour consider un epoch)"
   ]
  },
  {
   "cell_type": "code",
   "execution_count": null,
   "metadata": {
    "colab": {},
    "colab_type": "code",
    "id": "o_Dp8971McQ1"
   },
   "outputs": [],
   "source": [
    "BATCH_SIZE = 32\n",
    "train_dataset = train_dataset.repeat().shuffle(num_train_examples).batch(BATCH_SIZE)\n",
    "test_dataset = test_dataset.batch(BATCH_SIZE)"
   ]
  },
  {
   "cell_type": "code",
   "execution_count": 30,
   "metadata": {
    "colab": {
     "base_uri": "https://localhost:8080/",
     "height": 208
    },
    "colab_type": "code",
    "id": "xvwvpA64CaW_",
    "outputId": "12bfe7cd-1a23-4ad1-9df3-18d8a596a3f7"
   },
   "outputs": [
    {
     "name": "stdout",
     "output_type": "stream",
     "text": [
      "Train for 1875 steps\n",
      "Epoch 1/5\n",
      "1875/1875 [==============================] - 29s 16ms/step - loss: 2.3118 - accuracy: 0.1019\n",
      "Epoch 2/5\n",
      "1875/1875 [==============================] - 18s 9ms/step - loss: 2.3102 - accuracy: 0.0984\n",
      "Epoch 3/5\n",
      "1875/1875 [==============================] - 18s 10ms/step - loss: 2.3083 - accuracy: 0.1013\n",
      "Epoch 4/5\n",
      "1875/1875 [==============================] - 18s 10ms/step - loss: 2.3085 - accuracy: 0.1047\n",
      "Epoch 5/5\n",
      "1875/1875 [==============================] - 18s 10ms/step - loss: 2.3065 - accuracy: 0.1063\n"
     ]
    }
   ],
   "source": [
    "history = model.fit(train_dataset, epochs=5, steps_per_epoch=math.ceil(num_train_examples/BATCH_SIZE))"
   ]
  },
  {
   "cell_type": "code",
   "execution_count": null,
   "metadata": {
    "colab": {
     "base_uri": "https://localhost:8080/",
     "height": 465
    },
    "colab_type": "code",
    "id": "sDDj2kQEadvM",
    "outputId": "9448a5dc-0b2f-4a7b-c754-57fcb2905be0"
   },
   "outputs": [
    {
     "data": {
      "text/plain": [
       "{'accuracy': [0.81485, 0.8595333, 0.8735, 0.8821333, 0.88808334],\n",
       " 'loss': [0.5396169630527496,\n",
       "  0.3913085349480311,\n",
       "  0.35356516773700714,\n",
       "  0.3272603239138921,\n",
       "  0.3076890793045362]}"
      ]
     },
     "execution_count": 16,
     "metadata": {
      "tags": []
     },
     "output_type": "execute_result"
    },
    {
     "data": {
      "image/png": "[encoded data removed]",
      "text/plain": [
       "<Figure size 576x396 with 1 Axes>"
      ]
     },
     "metadata": {
      "tags": []
     },
     "output_type": "display_data"
    }
   ],
   "source": [
    "plt.xlabel('Epoch Number')\n",
    "plt.ylabel('Loss Magnitude')\n",
    "plt.plot(history.history['loss'])\n",
    "history.history"
   ]
  },
  {
   "cell_type": "markdown",
   "metadata": {
    "colab_type": "text",
    "id": "W3ZVOhugCaXA"
   },
   "source": [
    "On constate que durant l'apprentissage la fonction de perte dimunie, alors que la metrique accuracy augmente (deep learning is easy or not)"
   ]
  },
  {
   "cell_type": "markdown",
   "metadata": {
    "colab_type": "text",
    "id": "-h6XjCUGo1JP"
   },
   "source": [
    "## Que se passerait-il si on re-execute model.compile apres avoir entraine le modele?"
   ]
  },
  {
   "cell_type": "markdown",
   "metadata": {
    "colab_type": "text",
    "id": "oEw4bZgGCaXB"
   },
   "source": [
    "## Evaluons notre model\n",
    "\n",
    "On va maintenant utiliser le jeu de test pour evaluer le model(les choses serieuses commencent)"
   ]
  },
  {
   "cell_type": "code",
   "execution_count": null,
   "metadata": {
    "colab": {
     "base_uri": "https://localhost:8080/",
     "height": 51
    },
    "colab_type": "code",
    "id": "VflXLEeECaXC",
    "outputId": "ad60dfa2-4c8c-40c5-a7af-9cc52fa82191"
   },
   "outputs": [
    {
     "name": "stdout",
     "output_type": "stream",
     "text": [
      "313/313 [==============================] - 3s 10ms/step - loss: 0.3519 - accuracy: 0.8723\n",
      "l'exactitude sur le jeu de test : 0.8723\n"
     ]
    }
   ],
   "source": [
    "test_loss, test_accuracy = model.evaluate(test_dataset, steps=math.ceil(num_test_examples/32))\n",
    "print(\"l'exactitude sur le jeu de test :\", test_accuracy)"
   ]
  },
  {
   "cell_type": "markdown",
   "metadata": {
    "colab_type": "text",
    "id": "yWfgsmVXCaXG"
   },
   "source": [
    "Hummm, c'est quoi ca .** LOU XEWW  FI** ???? \n",
    "\n",
    "eh bien, On a perdu en accuracy. C'est la vie avec les jeux de test et ca peut etre pire dans certains cas(Overfitting is your ENEMY)"
   ]
  },
  {
   "cell_type": "markdown",
   "metadata": {
    "colab_type": "text",
    "id": "j9zRQtkQQzli"
   },
   "source": [
    "##Et si moi je tiens a tout prix a diminuer cet ecart => Maybe use Random Forrest ?\n",
    "\n",
    "## Hummm je veux pas quitter ce monde moi => Dropout is calling RING RING RING ..."
   ]
  },
  {
   "cell_type": "markdown",
   "metadata": {
    "colab_type": "text",
    "id": "xsoS7CPDCaXH"
   },
   "source": [
    "## Explorons les prédictions de notre modèle\n",
    "\n"
   ]
  },
  {
   "cell_type": "code",
   "execution_count": null,
   "metadata": {
    "colab": {},
    "colab_type": "code",
    "id": "Ccoz4conNCpl"
   },
   "outputs": [],
   "source": [
    "for test_images, test_labels in test_dataset.take(1):\n",
    "  test_images = test_images.numpy()\n",
    "  test_labels = test_labels.numpy()\n",
    "  predictions = model.predict(test_images)"
   ]
  },
  {
   "cell_type": "code",
   "execution_count": null,
   "metadata": {
    "colab": {},
    "colab_type": "code",
    "id": "Gl91RPhdCaXI"
   },
   "outputs": [],
   "source": [
    "predictions.shape"
   ]
  },
  {
   "cell_type": "markdown",
   "metadata": {
    "colab_type": "text",
    "id": "x9Kk1voUCaXJ"
   },
   "source": [
    "Analyson la prediction de la premiere image parmi les 32 constituant le batch qu'on va donne a notre model"
   ]
  },
  {
   "cell_type": "code",
   "execution_count": null,
   "metadata": {
    "colab": {},
    "colab_type": "code",
    "id": "3DmJEUinCaXK"
   },
   "outputs": [],
   "source": [
    "predictions[0]"
   ]
  },
  {
   "cell_type": "markdown",
   "metadata": {
    "colab_type": "text",
    "id": "-hw1hgeSCaXN"
   },
   "source": [
    "Ici une prediction est compose de 10 folttantes tel que chaque element represente la probabilite donnee par notre modele pour dire si l'image est associee a ladite categorie. c'est donc la confiance que notre modele a dans la classification de l'image par rapport a cette categorie.\n",
    "\n",
    "PAr exemple si predictions[0][0] = 0.9 cela voudrait dire que le modele est sur a 90% que l'image appartirnt a la categorie 0 donc T-shirt si on se refere au tableau class_names"
   ]
  },
  {
   "cell_type": "code",
   "execution_count": null,
   "metadata": {
    "colab": {},
    "colab_type": "code",
    "id": "qsqenuPnCaXO"
   },
   "outputs": [],
   "source": [
    "np.argmax(predictions[0])"
   ]
  },
  {
   "cell_type": "markdown",
   "metadata": {
    "colab_type": "text",
    "id": "E51yS7iCCaXO"
   },
   "source": [
    "Donc la grace a la fonction argmax de numpy on constate que le modele predit que l'image est un t-shirt et ceci est verifiable en utilisant le label reel associe a l'image (YUPI)"
   ]
  },
  {
   "cell_type": "code",
   "execution_count": null,
   "metadata": {
    "colab": {},
    "colab_type": "code",
    "id": "Sd7Pgsu6CaXP"
   },
   "outputs": [],
   "source": [
    "test_labels[0]"
   ]
  },
  {
   "cell_type": "markdown",
   "metadata": {
    "colab_type": "text",
    "id": "ygh2yYC972ne"
   },
   "source": [
    "Maintenant essayons d'afficher dans un graphique la distribution de probabilite que notre model donne cad les 10 flottantes donnees en sortie"
   ]
  },
  {
   "cell_type": "code",
   "execution_count": null,
   "metadata": {
    "colab": {},
    "colab_type": "code",
    "id": "DvYmmrpIy6Y1"
   },
   "outputs": [],
   "source": [
    "def plot_image(i, predictions_array, true_labels, images):\n",
    "  predictions_array, true_label, img = predictions_array[i], true_labels[i], images[i]\n",
    "  plt.grid(False)\n",
    "  plt.xticks([])\n",
    "  plt.yticks([])\n",
    "  \n",
    "  plt.imshow(img[...,0], cmap=plt.cm.binary)\n",
    "\n",
    "  predicted_label = np.argmax(predictions_array)\n",
    "  if predicted_label == true_label:\n",
    "    color = 'blue'\n",
    "  else:\n",
    "    color = 'red'\n",
    "  \n",
    "  plt.xlabel(\"{} {:2.0f}% ({})\".format(class_names[predicted_label],\n",
    "                                100*np.max(predictions_array),\n",
    "                                class_names[true_label]),\n",
    "                                color=color)\n",
    "\n",
    "def plot_value_array(i, predictions_array, true_label):\n",
    "  predictions_array, true_label = predictions_array[i], true_label[i]\n",
    "  plt.grid(False)\n",
    "  plt.xticks([])\n",
    "  plt.yticks([])\n",
    "  thisplot = plt.bar(range(10), predictions_array, color=\"#777777\")\n",
    "  plt.ylim([0, 1]) \n",
    "  predicted_label = np.argmax(predictions_array)\n",
    " \n",
    "  thisplot[predicted_label].set_color('red')\n",
    "  thisplot[true_label].set_color('blue')"
   ]
  },
  {
   "cell_type": "markdown",
   "metadata": {
    "colab_type": "text",
    "id": "d4Ov9OFDMmOD"
   },
   "source": [
    "Regardons a nouveau la premiere image "
   ]
  },
  {
   "cell_type": "code",
   "execution_count": null,
   "metadata": {
    "colab": {},
    "colab_type": "code",
    "id": "HV5jw-5HwSmO"
   },
   "outputs": [],
   "source": [
    "i = 0\n",
    "plt.figure(figsize=(6,3))\n",
    "plt.subplot(1,2,1)\n",
    "plot_image(i, predictions, test_labels, test_images)\n",
    "plt.subplot(1,2,2)\n",
    "plot_value_array(i, predictions,  test_labels)"
   ]
  },
  {
   "cell_type": "code",
   "execution_count": null,
   "metadata": {
    "colab": {},
    "colab_type": "code",
    "id": "Ko-uzOufSCSe"
   },
   "outputs": [],
   "source": [
    "i = 12\n",
    "plt.figure(figsize=(6,3))\n",
    "plt.subplot(1,2,1)\n",
    "plot_image(i, predictions, test_labels, test_images)\n",
    "plt.subplot(1,2,2)\n",
    "plot_value_array(i, predictions,  test_labels)"
   ]
  },
  {
   "cell_type": "markdown",
   "metadata": {
    "colab_type": "text",
    "id": "kgdvGD52CaXR"
   },
   "source": [
    "On va maintenant regarder plusieurs images pour comparer et mieux apprecier les predictions faites par notre model. Quand c'est ROUGE c'est une mauvaise predictions et quand c'est BLEU c'est une bonne prediction. "
   ]
  },
  {
   "cell_type": "code",
   "execution_count": null,
   "metadata": {
    "colab": {},
    "colab_type": "code",
    "id": "hQlnbqaw2Qu_"
   },
   "outputs": [],
   "source": [
    "num_rows = 5\n",
    "num_cols = 3\n",
    "num_images = num_rows*num_cols\n",
    "plt.figure(figsize=(2*2*num_cols, 2*num_rows))\n",
    "for i in range(num_images):\n",
    "  plt.subplot(num_rows, 2*num_cols, 2*i+1)\n",
    "  plot_image(i, predictions, test_labels, test_images)\n",
    "  plt.subplot(num_rows, 2*num_cols, 2*i+2)\n",
    "  plot_value_array(i, predictions, test_labels)\n"
   ]
  },
  {
   "cell_type": "markdown",
   "metadata": {
    "colab_type": "text",
    "id": "ajky1a12E2wh"
   },
   "source": [
    "## DOJO Time\n",
    "\n",
    "### Go Go Go Les Ninjas\n",
    "\n",
    "![alt text](https://media.giphy.com/media/gQi6UyCjtKxwY/giphy.gif)"
   ]
  },
  {
   "cell_type": "markdown",
   "metadata": {
    "colab_type": "text",
    "id": "erAJbkWeeB1b"
   },
   "source": [
    "* ### Que constatez-vous (Figure) ?\n",
    "\n",
    "\n"
   ]
  },
  {
   "cell_type": "markdown",
   "metadata": {
    "colab_type": "text",
    "id": "R32zteKHCaXT"
   },
   "source": [
    "Maintenant placons nous dans la vie reelle, cad qu'on a une seule image qu'on voudrait prédire"
   ]
  },
  {
   "cell_type": "code",
   "execution_count": null,
   "metadata": {
    "colab": {
     "base_uri": "https://localhost:8080/",
     "height": 34
    },
    "colab_type": "code",
    "id": "yRJ7JU7JCaXT",
    "outputId": "8351bd78-cafd-410d-bb25-45749b166f5a"
   },
   "outputs": [
    {
     "name": "stdout",
     "output_type": "stream",
     "text": [
      "(28, 28, 1)\n"
     ]
    }
   ],
   "source": [
    "img = test_images[0]\n",
    "\n",
    "print(img.shape)"
   ]
  },
  {
   "cell_type": "markdown",
   "metadata": {
    "colab_type": "text",
    "id": "Zpz7NvLdfkek"
   },
   "source": [
    "* ### Utiliser le modèle pour prédire l'image qui se trouve dans la variable img"
   ]
  },
  {
   "cell_type": "code",
   "execution_count": null,
   "metadata": {
    "colab": {},
    "colab_type": "code",
    "id": "6Ai-cpLjO-3A"
   },
   "outputs": [],
   "source": [
    "plot_value_array(0, predictions_single, test_labels)\n",
    "_ = plt.xticks(range(10), class_names, rotation=45)"
   ]
  },
  {
   "cell_type": "markdown",
   "metadata": {
    "colab_type": "text",
    "id": "cU1Y2OAMCaXb"
   },
   "source": [
    "* ### Donner la categorie de l'image qui a été prédite par le modèle"
   ]
  },
  {
   "cell_type": "code",
   "execution_count": null,
   "metadata": {
    "colab": {
     "base_uri": "https://localhost:8080/",
     "height": 364
    },
    "colab_type": "code",
    "id": "SY79T08-oKw2",
    "outputId": "9dcb3690-87f2-488f-bdd3-de52883675e2"
   },
   "outputs": [
    {
     "data": {
      "text/plain": [
       "<matplotlib.image.AxesImage at 0x7f2e6af93cf8>"
      ]
     },
     "execution_count": 25,
     "metadata": {
      "tags": []
     },
     "output_type": "execute_result"
    },
    {
     "data": {
      "image/png": "[encoded data removed]",
      "text/plain": [
       "<Figure size 576x396 with 1 Axes>"
      ]
     },
     "metadata": {
      "tags": []
     },
     "output_type": "display_data"
    }
   ],
   "source": [
    "plt.imshow(my_image[..., 0])"
   ]
  },
  {
   "cell_type": "markdown",
   "metadata": {
    "colab_type": "text",
    "id": "7CXeSNbSoYAR"
   },
   "source": [
    "* ### Predire aussi  l'image qui se trouve dans la variable my_image"
   ]
  },
  {
   "cell_type": "code",
   "execution_count": null,
   "metadata": {
    "colab": {},
    "colab_type": "code",
    "id": "WV2q82gtDoHF"
   },
   "outputs": [],
   "source": [
    "# Go Go Go Ninjas !"
   ]
  },
  {
   "cell_type": "markdown",
   "metadata": {
    "colab_type": "text",
    "id": "-KtnHECKZni_"
   },
   "source": [
    "### A faire a la maison (mauvais souvenirs 🤪😜 )\n",
    "\n",
    "Jouez avec les hyperprametres et les donnees :\n",
    "*   Faites varier le nombre d'epochs de 1a 5 pour voir l'impact\n",
    "*   Changer le nombre de neurones utilises dans le hidden layer et aussi le nombre de couches cachees\n",
    "*   Ne pas normaliser les images (SURPRISE) => Essayer de bien comprendre les raisons de cette surprise"
   ]
  },
  {
   "cell_type": "code",
   "execution_count": null,
   "metadata": {
    "colab": {},
    "colab_type": "code",
    "id": "WIIYx5IIfwF0"
   },
   "outputs": [],
   "source": []
  },
  {
   "cell_type": "markdown",
   "metadata": {
    "colab_type": "text",
    "id": "5Mlpw6p_-CFh"
   },
   "source": [
    "# Utilisation des réseaux de neurones convolutionnels\n",
    "\n",
    "![alt text](https://cdn-images-1.medium.com/max/2400/1*vkQ0hXDaQv57sALXAJquxA.jpeg)"
   ]
  },
  {
   "cell_type": "markdown",
   "metadata": {
    "colab_type": "text",
    "id": "y66mnYZNB54t"
   },
   "source": [
    "### Construction de notre modèle"
   ]
  },
  {
   "cell_type": "code",
   "execution_count": null,
   "metadata": {
    "colab": {},
    "colab_type": "code",
    "id": "f-u36fH0mXen"
   },
   "outputs": [],
   "source": [
    "model = tf.keras.Sequential([\n",
    "    tf.keras.layers.Conv2D(32, (3,3), padding='same', activation=tf.nn.relu, input_shape=(28, 28, 1)),\n",
    "    tf.keras.layers.MaxPooling2D((2, 2), strides=2),\n",
    "    tf.keras.layers.Conv2D(64, (3,3), padding='same', activation=tf.nn.relu),\n",
    "    tf.keras.layers.MaxPooling2D((2, 2), strides=2),\n",
    "    tf.keras.layers.Flatten(),\n",
    "    tf.keras.layers.Dense(128, activation=tf.nn.relu),\n",
    "    tf.keras.layers.Dense(10,  activation=tf.nn.softmax)\n",
    "])"
   ]
  },
  {
   "cell_type": "markdown",
   "metadata": {
    "colab_type": "text",
    "id": "ipDeHJAUCWHf"
   },
   "source": [
    "### Compilation du modèle"
   ]
  },
  {
   "cell_type": "code",
   "execution_count": null,
   "metadata": {
    "colab": {},
    "colab_type": "code",
    "id": "MbSXMs-_3Qry"
   },
   "outputs": [],
   "source": [
    "model.compile(\n",
    "    optimizer='adam', \n",
    "    loss='sparse_categorical_crossentropy',\n",
    "    metrics=['accuracy']\n",
    ")"
   ]
  },
  {
   "cell_type": "markdown",
   "metadata": {
    "colab_type": "text",
    "id": "8uja8qCQCnh_"
   },
   "source": [
    "### Préparation de nos données sous forme de batch"
   ]
  },
  {
   "cell_type": "code",
   "execution_count": null,
   "metadata": {
    "colab": {},
    "colab_type": "code",
    "id": "-q8uvAQz3YSL"
   },
   "outputs": [],
   "source": [
    "BATCH_SIZE = 32\n",
    "train_dataset = train_dataset.repeat().shuffle(num_train_examples).batch(BATCH_SIZE)\n",
    "test_dataset = test_dataset.batch(BATCH_SIZE)"
   ]
  },
  {
   "cell_type": "markdown",
   "metadata": {
    "colab_type": "text",
    "id": "jyhPwCOnCuT7"
   },
   "source": [
    "### On entraine notre modèle et on garde l'histoire"
   ]
  },
  {
   "cell_type": "code",
   "execution_count": null,
   "metadata": {
    "colab": {},
    "colab_type": "code",
    "id": "iFamYx2O3dii"
   },
   "outputs": [],
   "source": [
    "history = model.fit(train_dataset, epochs=5, steps_per_epoch=math.ceil(num_train_examples/BATCH_SIZE))"
   ]
  },
  {
   "cell_type": "markdown",
   "metadata": {
    "colab_type": "text",
    "id": "vaxpyWzUC5Me"
   },
   "source": [
    "### On affiche la courbe d'évolution de notre fonction de perte en fonction des époques "
   ]
  },
  {
   "cell_type": "code",
   "execution_count": null,
   "metadata": {
    "colab": {},
    "colab_type": "code",
    "id": "sb5_Y-lJ3jv7"
   },
   "outputs": [],
   "source": [
    "plt.xlabel('Epoch Number')\n",
    "plt.ylabel('Loss Magnitude')\n",
    "plt.plot(history.history['loss'])"
   ]
  },
  {
   "cell_type": "markdown",
   "metadata": {
    "colab_type": "text",
    "id": "ZMuefwGbDJdE"
   },
   "source": [
    "### On teste notre modéle pour constater la différence"
   ]
  },
  {
   "cell_type": "code",
   "execution_count": null,
   "metadata": {
    "colab": {},
    "colab_type": "code",
    "id": "xwuE4zt13pmp"
   },
   "outputs": [],
   "source": [
    "test_loss, test_accuracy = model.evaluate(test_dataset, steps=math.ceil(num_test_examples/32))\n",
    "print(\"l'exactitude sur le jeu de test :\", test_accuracy)"
   ]
  }
 ],
 "metadata": {
  "accelerator": "GPU",
  "colab": {
   "collapsed_sections": [],
   "name": "Fashion MNIST / TensorFlow : Classification d'images",
   "provenance": []
  },
  "kernelspec": {
   "display_name": "Python 3",
   "language": "python",
   "name": "python3"
  },
  "language_info": {
   "codemirror_mode": {
    "name": "ipython",
    "version": 3
   },
   "file_extension": ".py",
   "mimetype": "text/x-python",
   "name": "python",
   "nbconvert_exporter": "python",
   "pygments_lexer": "ipython3",
   "version": "3.7.4"
  }
 },
 "nbformat": 4,
 "nbformat_minor": 4
}
